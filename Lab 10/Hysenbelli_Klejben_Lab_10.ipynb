{
 "cells": [
  {
   "cell_type": "markdown",
   "id": "760e7236",
   "metadata": {},
   "source": [
    "# Question 1"
   ]
  },
  {
   "cell_type": "code",
   "execution_count": null,
   "id": "ed826fa4",
   "metadata": {},
   "outputs": [],
   "source": [
    "from tkinter import *\n",
    "import requests\n",
    "\n",
    "genius = requests.get(f\"https://api.quotable.io/authors\")\n",
    "json_file = genius.json()\n",
    "results = json_file[\"results\"]\n",
    "\n",
    "x = 0\n",
    "names = []\n",
    "for i in results: \n",
    "    one = results[x]\n",
    "    name = one[\"name\"]\n",
    "    names.append(name)\n",
    "    x += 1\n",
    "\n",
    "root = Tk()\n",
    "\n",
    "def getquote(): \n",
    "    author = value.get()\n",
    "    genius = requests.get(f\"https://api.quotable.io/quotes/random?author={author}\")\n",
    "    json_file = genius.json()\n",
    "    quote = json_file[0][\"content\"]\n",
    "    myLabel1 = Label(root, text=quote)\n",
    "    myLabel1.pack()\n",
    "\n",
    "value = StringVar()\n",
    "value.set(\"Select an Author\")\n",
    "    \n",
    "dropdown = OptionMenu(root, value, *names)\n",
    "choose_button = Button(root, text=\"Click to choose\", command=getquote)\n",
    "\n",
    "dropdown.pack()\n",
    "choose_button.pack()\n",
    "\n",
    "root.mainloop()"
   ]
  },
  {
   "cell_type": "markdown",
   "id": "9bffd81c",
   "metadata": {},
   "source": [
    "# Question 2"
   ]
  },
  {
   "cell_type": "code",
   "execution_count": null,
   "id": "1850e2dd",
   "metadata": {},
   "outputs": [],
   "source": [
    "from tkinter import *\n",
    "import requests\n",
    "import json\n",
    "\n",
    "root = Tk()\n",
    "\n",
    "latitude = \"42.0987\"\n",
    "longitude = \"-75.9180\"\n",
    "genius = requests.get(f\"https://api.weather.gov/points/{latitude},{longitude}\")\n",
    "json_file = genius.json()\n",
    "\n",
    "forecast = json_file[\"properties\"][\"forecast\"]\n",
    "new_request = requests.get(forecast)\n",
    "\n",
    "json_data = new_request.json()\n",
    "\n",
    "a = json_data[\"properties\"][\"periods\"]\n",
    "\n",
    "for i in a:\n",
    "    name = i[\"name\"]\n",
    "    temp = i[\"temperature\"]\n",
    "    detail = i[\"detailedForecast\"]\n",
    "    myLabel1 = Label(root, text=name)\n",
    "    myLabel1.pack()\n",
    "    myLabel2 = Label(root, text=temp)\n",
    "    myLabel2.pack()\n",
    "    myMessage3 = Message(root, text=detail, width=500)#Using Message widget instead of Label\n",
    "    myMessage3.pack()\n",
    "\n",
    "root.mainloop()\n"
   ]
  }
 ],
 "metadata": {
  "kernelspec": {
   "display_name": "Python 3 (ipykernel)",
   "language": "python",
   "name": "python3"
  },
  "language_info": {
   "codemirror_mode": {
    "name": "ipython",
    "version": 3
   },
   "file_extension": ".py",
   "mimetype": "text/x-python",
   "name": "python",
   "nbconvert_exporter": "python",
   "pygments_lexer": "ipython3",
   "version": "3.9.12"
  }
 },
 "nbformat": 4,
 "nbformat_minor": 5
}
