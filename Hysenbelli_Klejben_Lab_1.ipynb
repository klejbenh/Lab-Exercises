{
 "cells": [
  {
   "cell_type": "code",
   "execution_count": 1,
   "id": "b5037253",
   "metadata": {},
   "outputs": [
    {
     "name": "stdout",
     "output_type": "stream",
     "text": [
      "chestnut\n"
     ]
    }
   ],
   "source": [
    "#Question 1 \n",
    "def find_longest_word(words):\n",
    "    longest_word = ''\n",
    "    for word in words:\n",
    "        if len(word) > len(longest_word):\n",
    "            longest_word = word\n",
    "    return longest_word\n",
    "\n",
    "word_list = [\"apple\", \"chestnut\", \"gargoyle\", \"pandas\", \"sheep\", \"raptor\"]\n",
    "longest_word = find_longest_word(word_list)\n",
    "print(longest_word)\n"
   ]
  },
  {
   "cell_type": "code",
   "execution_count": 5,
   "id": "93cf6946",
   "metadata": {},
   "outputs": [
    {
     "name": "stdout",
     "output_type": "stream",
     "text": [
      "Selected words: ['always', 'quiet', 'draw', 'need', 'sure', 'else', 'object']\n",
      "Longest word: always\n"
     ]
    }
   ],
   "source": [
    "#Question 2\n",
    "import random\n",
    "\n",
    "with open('words.txt', 'r') as f:\n",
    "    word_list = f.read().splitlines()\n",
    "\n",
    "selected_words = random.sample(word_list, 7)\n",
    "\n",
    "longest_word = find_longest_word(selected_words)\n",
    "\n",
    "print('Selected words:', selected_words)\n",
    "print('Longest word:', longest_word)\n"
   ]
  },
  {
   "cell_type": "code",
   "execution_count": 6,
   "id": "5e97e467",
   "metadata": {},
   "outputs": [],
   "source": [
    "#Question 3\n",
    "test_dict = {\"one\":1,\n",
    "            \"two\":2,\n",
    "            \"three\":3}\n",
    "\n",
    "test_dict[\"four\"] = 4\n",
    "test_dict.popitem()\n",
    "test_dict.get(\"two\")\n",
    "test_dict.clear()"
   ]
  },
  {
   "cell_type": "code",
   "execution_count": 7,
   "id": "d5c7025a",
   "metadata": {},
   "outputs": [
    {
     "name": "stdout",
     "output_type": "stream",
     "text": [
      "Hi! I am Klejben Hysenbelli.\n",
      "My gpa is 4.0\n",
      "I have good academic standing.\n"
     ]
    }
   ],
   "source": [
    "#Question 4\n",
    "class Info:\n",
    "    def __init__(self, first, last, grade, standing):\n",
    "        self.first = first\n",
    "        self.last = last\n",
    "        self.grade = grade\n",
    "        self.standing = standing\n",
    "    \n",
    "    def full(self):\n",
    "        print(f\"Hi! I am {self.first} {self.last}.\")\n",
    "    \n",
    "    def gradepa(self):\n",
    "        x = int(self.grade) / 25\n",
    "        print(f\"My gpa is {x}\")\n",
    "    \n",
    "    def goodobad(self):\n",
    "        if self.standing == \"Good\":\n",
    "              print(\"I have good academic standing.\")\n",
    "        else:\n",
    "              print(\"I do not have good academic standing.\")\n",
    "    \n",
    "total = Info(\"Klejben\",\"Hysenbelli\",\"100\",\"Good\")\n",
    "total.full()\n",
    "total.gradepa()\n",
    "total.goodobad()"
   ]
  },
  {
   "cell_type": "code",
   "execution_count": 8,
   "id": "5a651a6f",
   "metadata": {},
   "outputs": [
    {
     "name": "stdout",
     "output_type": "stream",
     "text": [
      "Lets play a hangman game!\n",
      "______Guess a character:B\n",
      "b\n",
      "b_____Guess a character:a\n",
      "ba\n",
      "ba_a_aGuess a character:c\n",
      "bac\n",
      "Wrong. Try again!\n",
      "You have 5 more guesses.\n",
      "ba_a_aGuess a character:\n",
      "bac\n",
      "ba_a_aGuess a character:d\n",
      "bacd\n",
      "Wrong. Try again!\n",
      "You have 4 more guesses.\n",
      "ba_a_aGuess a character:n\n",
      "bacdn\n",
      "banana You won\n"
     ]
    }
   ],
   "source": [
    "#Question 5\n",
    "print (\"Lets play a hangman game!\")\n",
    "guesses = \"\"\n",
    "word = \"banana\"\n",
    "turns = 6\n",
    "\n",
    "while turns > 0:         \n",
    "    fails = 0\n",
    "    for i in word:  \n",
    "        if i in guesses:    \n",
    "            print (i,end=\"\")\n",
    "        else:\n",
    "            print (\"_\",end=\"\")\n",
    "            fails += 1     \n",
    "\n",
    "    if fails == 0:       \n",
    "        print (\" You won\")\n",
    "        break            \n",
    "\n",
    "    guess = input(\"Guess a character:\").lower() \n",
    "    guesses += guess\n",
    "    print(guesses)                 \n",
    "\n",
    "    if guess not in word:\n",
    "        turns -= 1        \n",
    "        print (\"Wrong. Try again!\")  \n",
    "        print (\"You have\", + turns, \"more guesses.\")\n",
    "\n",
    "        if turns == 0:\n",
    "            print (\"You lose. Sorry!\")"
   ]
  },
  {
   "cell_type": "code",
   "execution_count": null,
   "id": "6664dcc6",
   "metadata": {},
   "outputs": [],
   "source": []
  }
 ],
 "metadata": {
  "kernelspec": {
   "display_name": "Python 3 (ipykernel)",
   "language": "python",
   "name": "python3"
  },
  "language_info": {
   "codemirror_mode": {
    "name": "ipython",
    "version": 3
   },
   "file_extension": ".py",
   "mimetype": "text/x-python",
   "name": "python",
   "nbconvert_exporter": "python",
   "pygments_lexer": "ipython3",
   "version": "3.9.12"
  }
 },
 "nbformat": 4,
 "nbformat_minor": 5
}
